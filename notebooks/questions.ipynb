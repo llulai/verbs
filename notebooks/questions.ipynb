{
 "cells": [
  {
   "cell_type": "code",
   "execution_count": 28,
   "metadata": {},
   "outputs": [],
   "source": [
    "from itertools import cycle\n",
    "import pandas as pd"
   ]
  },
  {
   "cell_type": "code",
   "execution_count": 2,
   "metadata": {},
   "outputs": [],
   "source": [
    "c = cycle(range(10))"
   ]
  },
  {
   "cell_type": "code",
   "execution_count": 27,
   "metadata": {},
   "outputs": [
    {
     "data": {
      "text/plain": [
       "4"
      ]
     },
     "execution_count": 27,
     "metadata": {},
     "output_type": "execute_result"
    }
   ],
   "source": [
    "next(c)"
   ]
  },
  {
   "cell_type": "code",
   "execution_count": 32,
   "metadata": {},
   "outputs": [],
   "source": [
    "verbs = pd.read_csv('top_1000_verbs_pt.csv').verbs.values"
   ]
  },
  {
   "cell_type": "code",
   "execution_count": 104,
   "metadata": {},
   "outputs": [
    {
     "data": {
      "text/html": [
       "<div>\n",
       "<style scoped>\n",
       "    .dataframe tbody tr th:only-of-type {\n",
       "        vertical-align: middle;\n",
       "    }\n",
       "\n",
       "    .dataframe tbody tr th {\n",
       "        vertical-align: top;\n",
       "    }\n",
       "\n",
       "    .dataframe thead th {\n",
       "        text-align: right;\n",
       "    }\n",
       "</style>\n",
       "<table border=\"1\" class=\"dataframe\">\n",
       "  <thead>\n",
       "    <tr style=\"text-align: right;\">\n",
       "      <th></th>\n",
       "      <th>conj</th>\n",
       "      <th>infinitive</th>\n",
       "      <th>mode</th>\n",
       "      <th>pess</th>\n",
       "      <th>time</th>\n",
       "    </tr>\n",
       "  </thead>\n",
       "  <tbody>\n",
       "    <tr>\n",
       "      <th>0</th>\n",
       "      <td>sou</td>\n",
       "      <td>ser</td>\n",
       "      <td>indicativo</td>\n",
       "      <td>eu</td>\n",
       "      <td>presente</td>\n",
       "    </tr>\n",
       "    <tr>\n",
       "      <th>1</th>\n",
       "      <td>fui</td>\n",
       "      <td>ser</td>\n",
       "      <td>indicativo</td>\n",
       "      <td>eu</td>\n",
       "      <td>pretérito perfeito</td>\n",
       "    </tr>\n",
       "    <tr>\n",
       "      <th>2</th>\n",
       "      <td>era</td>\n",
       "      <td>ser</td>\n",
       "      <td>indicativo</td>\n",
       "      <td>eu</td>\n",
       "      <td>pretérito imperfeito</td>\n",
       "    </tr>\n",
       "    <tr>\n",
       "      <th>3</th>\n",
       "      <td>és</td>\n",
       "      <td>ser</td>\n",
       "      <td>indicativo</td>\n",
       "      <td>tu</td>\n",
       "      <td>presente</td>\n",
       "    </tr>\n",
       "    <tr>\n",
       "      <th>4</th>\n",
       "      <td>foste</td>\n",
       "      <td>ser</td>\n",
       "      <td>indicativo</td>\n",
       "      <td>tu</td>\n",
       "      <td>pretérito perfeito</td>\n",
       "    </tr>\n",
       "  </tbody>\n",
       "</table>\n",
       "</div>"
      ],
      "text/plain": [
       "    conj infinitive        mode pess                  time\n",
       "0    sou        ser  indicativo   eu              presente\n",
       "1    fui        ser  indicativo   eu    pretérito perfeito\n",
       "2    era        ser  indicativo   eu  pretérito imperfeito\n",
       "3     és        ser  indicativo   tu              presente\n",
       "4  foste        ser  indicativo   tu    pretérito perfeito"
      ]
     },
     "execution_count": 104,
     "metadata": {},
     "output_type": "execute_result"
    }
   ],
   "source": [
    "conjugations = pd.read_csv('top_100_pt.csv')\n",
    "conjugations.head()"
   ]
  },
  {
   "cell_type": "code",
   "execution_count": 110,
   "metadata": {},
   "outputs": [],
   "source": [
    "conj = {}\n",
    "\n",
    "for verb, verb_df in conjugations.groupby('infinitive'):\n",
    "    conj[verb] = {}\n",
    "    for mode, mode_df in verb_df.groupby('mode'):\n",
    "        conj[verb][mode] = {}\n",
    "        for time, time_df in mode_df.groupby('time'):\n",
    "            conj[verb][mode][time] = {}\n",
    "            for pers, pers_df in time_df.groupby('pess'):\n",
    "                conj[verb][mode][time][pers] = pers_df.conj.values[0]"
   ]
  },
  {
   "cell_type": "code",
   "execution_count": 118,
   "metadata": {},
   "outputs": [
    {
     "data": {
      "text/plain": [
       "{'ele/ela': 'é',\n",
       " 'eles/elas': 'são',\n",
       " 'eu': 'sou',\n",
       " 'nós': 'somos',\n",
       " 'tu': 'és',\n",
       " 'vós': 'sois'}"
      ]
     },
     "execution_count": 118,
     "metadata": {},
     "output_type": "execute_result"
    }
   ],
   "source": [
    "conj['ser']['indicativo']['presente']"
   ]
  },
  {
   "cell_type": "code",
   "execution_count": 128,
   "metadata": {},
   "outputs": [],
   "source": []
  },
  {
   "cell_type": "code",
   "execution_count": 129,
   "metadata": {},
   "outputs": [
    {
     "name": "stdout",
     "output_type": "stream",
     "text": [
      "conjugate ser\n",
      "eu: sou\n",
      "ele/ela: \n",
      "nós: somos\n",
      "eles/elas: são\n"
     ]
    },
    {
     "data": {
      "text/plain": [
       "False"
      ]
     },
     "execution_count": 129,
     "metadata": {},
     "output_type": "execute_result"
    }
   ],
   "source": [
    "ask_verb('ser', 'indicativo', 'presente')"
   ]
  },
  {
   "cell_type": "code",
   "execution_count": 115,
   "metadata": {},
   "outputs": [
    {
     "data": {
      "text/plain": [
       "'sou'"
      ]
     },
     "execution_count": 115,
     "metadata": {},
     "output_type": "execute_result"
    }
   ],
   "source": [
    "conj['ser']['indicativo']['presente']['eu']"
   ]
  },
  {
   "cell_type": "code",
   "execution_count": 97,
   "metadata": {},
   "outputs": [],
   "source": [
    "class Reviewer:\n",
    "    def __init__(self):\n",
    "\n",
    "def get_seq(i):\n",
    "    nums = ''.join([str(i) for i in range(10)])\n",
    "    out = [nums[i]]\n",
    "    for d in range(2, 5):\n",
    "        out.append(nums[(i + d) % 10])\n",
    "        i += d\n",
    "    return ''.join(out)\n",
    "\n",
    "\n",
    "def put_in_progress(decks, session, word):\n",
    "    decks['progress'][get_seq(session)].append(word)\n",
    "\n",
    "\n",
    "def remove_from_progress(decks, session, word):\n",
    "    decks['progress'][get_seq((session + 1) % 10)].remove(word)\n",
    "\n",
    "    \n",
    "def remove_from_current(decks, word):\n",
    "    decks['current'].remove(word)\n",
    "    \n",
    "    \n",
    "def put_in_retired(decks, word):\n",
    "    decks['retired'].append(word)\n",
    "    \n",
    "\n",
    "def create_decks():\n",
    "    return {\n",
    "        'current':list(verbs[:10]),\n",
    "        'progress': { get_seq(i): [] for i in range(10)},\n",
    "        'retired': []\n",
    "    }\n",
    "\n",
    "\n",
    "def ask_verb(verb, mode, time):\n",
    "    persons = ('eu', 'ele/ela', 'nós', 'eles/elas')\n",
    "    print(f\"conjugate {verb}\")\n",
    "    answers = [input(f\"{person}: \") == conj[verb][mode][time][person] for person in persons]\n",
    "    return all(answers)"
   ]
  },
  {
   "cell_type": "code",
   "execution_count": 98,
   "metadata": {},
   "outputs": [
    {
     "data": {
      "text/plain": [
       "{'current': ['ser',\n",
       "  'ter',\n",
       "  'estar',\n",
       "  'poder',\n",
       "  'fazer',\n",
       "  'ir',\n",
       "  'haver',\n",
       "  'dizer',\n",
       "  'dar',\n",
       "  'ver'],\n",
       " 'progress': {'0259': [],\n",
       "  '1360': [],\n",
       "  '2471': [],\n",
       "  '3582': [],\n",
       "  '4693': [],\n",
       "  '5704': [],\n",
       "  '6815': [],\n",
       "  '7926': [],\n",
       "  '8037': [],\n",
       "  '9148': []},\n",
       " 'retired': []}"
      ]
     },
     "execution_count": 98,
     "metadata": {},
     "output_type": "execute_result"
    }
   ],
   "source": [
    "decks"
   ]
  },
  {
   "cell_type": "code",
   "execution_count": 99,
   "metadata": {},
   "outputs": [],
   "source": [
    "put_in_progress(decks, 0, 'ser')\n",
    "remove_from_current(decks, 'ser')"
   ]
  },
  {
   "cell_type": "code",
   "execution_count": 100,
   "metadata": {},
   "outputs": [
    {
     "data": {
      "text/plain": [
       "{'current': ['ter',\n",
       "  'estar',\n",
       "  'poder',\n",
       "  'fazer',\n",
       "  'ir',\n",
       "  'haver',\n",
       "  'dizer',\n",
       "  'dar',\n",
       "  'ver'],\n",
       " 'progress': {'0259': ['ser'],\n",
       "  '1360': [],\n",
       "  '2471': [],\n",
       "  '3582': [],\n",
       "  '4693': [],\n",
       "  '5704': [],\n",
       "  '6815': [],\n",
       "  '7926': [],\n",
       "  '8037': [],\n",
       "  '9148': []},\n",
       " 'retired': []}"
      ]
     },
     "execution_count": 100,
     "metadata": {},
     "output_type": "execute_result"
    }
   ],
   "source": [
    "decks"
   ]
  },
  {
   "cell_type": "code",
   "execution_count": 101,
   "metadata": {},
   "outputs": [],
   "source": []
  },
  {
   "cell_type": "code",
   "execution_count": 69,
   "metadata": {},
   "outputs": [
    {
     "data": {
      "text/plain": [
       "'0123456789'"
      ]
     },
     "execution_count": 69,
     "metadata": {},
     "output_type": "execute_result"
    }
   ],
   "source": [
    "''.join([str(i) for i in range(10)])"
   ]
  },
  {
   "cell_type": "code",
   "execution_count": 131,
   "metadata": {},
   "outputs": [],
   "source": [
    "from termcolor import colored"
   ]
  },
  {
   "cell_type": "code",
   "execution_count": 133,
   "metadata": {},
   "outputs": [
    {
     "name": "stdout",
     "output_type": "stream",
     "text": [
      "\u001b[31mholi\u001b[0m \u001b[32mchau\u001b[0m\n"
     ]
    }
   ],
   "source": [
    "print(colored('holi', 'red'), colored('chau', 'green'))"
   ]
  },
  {
   "cell_type": "code",
   "execution_count": 134,
   "metadata": {},
   "outputs": [],
   "source": [
    "import random"
   ]
  },
  {
   "cell_type": "code",
   "execution_count": 147,
   "metadata": {},
   "outputs": [
    {
     "data": {
      "text/plain": [
       "[3, 1, 2]"
      ]
     },
     "execution_count": 147,
     "metadata": {},
     "output_type": "execute_result"
    }
   ],
   "source": [
    "random.sample([1, 2, 3], 3)"
   ]
  },
  {
   "cell_type": "code",
   "execution_count": null,
   "metadata": {},
   "outputs": [],
   "source": []
  }
 ],
 "metadata": {
  "kernelspec": {
   "display_name": "verbs",
   "language": "python",
   "name": "verbs"
  },
  "language_info": {
   "codemirror_mode": {
    "name": "ipython",
    "version": 3
   },
   "file_extension": ".py",
   "mimetype": "text/x-python",
   "name": "python",
   "nbconvert_exporter": "python",
   "pygments_lexer": "ipython3",
   "version": "3.6.8"
  }
 },
 "nbformat": 4,
 "nbformat_minor": 2
}
