{
 "cells": [
  {
   "cell_type": "code",
   "execution_count": 1,
   "metadata": {},
   "outputs": [],
   "source": [
    "#!pip install beautifulsoup4\n",
    "#!pip install requests\n",
    "#!conda install pandas\n",
    "#!pip install tqdm"
   ]
  },
  {
   "cell_type": "code",
   "execution_count": 2,
   "metadata": {},
   "outputs": [],
   "source": [
    "import requests\n",
    "from bs4 import BeautifulSoup\n",
    "import pandas as pd\n",
    "from tqdm import tqdm_notebook as tqdm"
   ]
  },
  {
   "cell_type": "code",
   "execution_count": 25,
   "metadata": {},
   "outputs": [],
   "source": [
    "def clean_text(text):\n",
    "    return text.replace('/', '').strip().lower()\n",
    "\n",
    "\n",
    "def process_mode(row):\n",
    "    return clean_text(row.td.text)\n",
    "\n",
    "\n",
    "def process_times(row):\n",
    "    return tuple(clean_text(col.text) for col in row.find_all('td'))\n",
    "\n",
    "\n",
    "def process_conj(row, mode, times, infinitive):\n",
    "    verbs = []\n",
    "    cols = row.find_all('td')\n",
    "    \n",
    "    for i in range(0, 6, 2):\n",
    "        verbs.append(\n",
    "            dict(infinitive=infinitive,\n",
    "                 pess=cols[i].text,\n",
    "                 conj=cols[i + 1].text,\n",
    "                 time=times[i // 2],\n",
    "                 mode=mode\n",
    "                )\n",
    "        )\n",
    "        \n",
    "    return verbs\n",
    "\n",
    "\n",
    "\n",
    "def get_indicativo(infinitive:str, table:list) -> list:\n",
    "    \n",
    "    verbs = []\n",
    "    \n",
    "    for i, row in enumerate(table.find_all('tr')):\n",
    "        if i == 3:\n",
    "            mode = process_mode(row)\n",
    "        if i == 4 or i == 12:\n",
    "            times = process_times(row)\n",
    "        if 5 <= i <= 10 or 14 <= i <= 19:\n",
    "            verbs.extend(process_conj(row, mode, times, infinitive))\n",
    "    \n",
    "    return verbs\n",
    "\n",
    "def get_conjugations(verb):\n",
    "    try:\n",
    "        r = requests.get(f\"http://www.conjuga-me.net/verbo-{verb}\")\n",
    "        soup = BeautifulSoup(r.text, 'html.parser')\n",
    "        indicativo = get_indicativo(verb, soup.find(class_=\"conj\"))\n",
    "        return indicativo\n",
    "    except AttributeError:\n",
    "        print(f\"verb '{verb}' not found\")\n",
    "        return []"
   ]
  },
  {
   "cell_type": "code",
   "execution_count": 14,
   "metadata": {},
   "outputs": [
    {
     "data": {
      "text/plain": [
       "array(['ser'], dtype=object)"
      ]
     },
     "execution_count": 14,
     "metadata": {},
     "output_type": "execute_result"
    }
   ],
   "source": [
    "def clean_verb(verb):\n",
    "    return verb.replace('[', '').replace(']', '').lower().strip()\n",
    "\n",
    "#verbs = pd.read_clipboard().assign(verb=lambda df: df.verb.apply(clean_verb)).verb.values\n",
    "verbs = pd.read_csv('top_1000_verbs_pt.csv').dropna().verbs.values\n",
    "verbs[:1]"
   ]
  },
  {
   "cell_type": "code",
   "execution_count": 10,
   "metadata": {},
   "outputs": [],
   "source": [
    "parsed_verbs = verbs[:1]"
   ]
  },
  {
   "cell_type": "code",
   "execution_count": 30,
   "metadata": {},
   "outputs": [
    {
     "name": "stdout",
     "output_type": "stream",
     "text": [
      "downloading 500\n"
     ]
    },
    {
     "data": {
      "text/plain": [
       "HBox(children=(IntProgress(value=0), HTML(value='')))"
      ]
     },
     "metadata": {},
     "output_type": "display_data"
    },
    {
     "name": "stdout",
     "output_type": "stream",
     "text": [
      "verb 'efectuar' not found\n",
      "downloading 600\n"
     ]
    },
    {
     "data": {
      "text/plain": [
       "HBox(children=(IntProgress(value=0), HTML(value='')))"
      ]
     },
     "metadata": {},
     "output_type": "display_data"
    },
    {
     "name": "stdout",
     "output_type": "stream",
     "text": [
      "downloading 700\n"
     ]
    },
    {
     "data": {
      "text/plain": [
       "HBox(children=(IntProgress(value=0), HTML(value='')))"
      ]
     },
     "metadata": {},
     "output_type": "display_data"
    },
    {
     "name": "stdout",
     "output_type": "stream",
     "text": [
      "verb 'seleccionar' not found\n",
      "verb 'detectar' not found\n",
      "downloading 800\n"
     ]
    },
    {
     "data": {
      "text/plain": [
       "HBox(children=(IntProgress(value=0), HTML(value='')))"
      ]
     },
     "metadata": {},
     "output_type": "display_data"
    },
    {
     "name": "stdout",
     "output_type": "stream",
     "text": [
      "downloading 900\n"
     ]
    },
    {
     "data": {
      "text/plain": [
       "HBox(children=(IntProgress(value=0), HTML(value='')))"
      ]
     },
     "metadata": {},
     "output_type": "display_data"
    },
    {
     "name": "stdout",
     "output_type": "stream",
     "text": [
      "verb 'enfatizar' not found\n",
      "verb 'leccionar' not found\n",
      "verb 'baptizar' not found\n",
      "verb 'actualizar' not found\n",
      "downloading 1000\n"
     ]
    },
    {
     "data": {
      "text/plain": [
       "HBox(children=(IntProgress(value=0, max=99), HTML(value='')))"
      ]
     },
     "metadata": {},
     "output_type": "display_data"
    },
    {
     "name": "stdout",
     "output_type": "stream",
     "text": [
      "verb 'accionar' not found\n"
     ]
    }
   ],
   "source": [
    "for i in range(500, 1001, 100):\n",
    "    print(f\"downloading {i}\")\n",
    "\n",
    "    parsed = []\n",
    "\n",
    "    for verb in tqdm(verbs[i - 100:i]):\n",
    "        parsed.extend(get_conjugations(verb))\n",
    "\n",
    "    pd.DataFrame(parsed).to_csv(f'top_{i}_pt.csv', index=False)"
   ]
  },
  {
   "cell_type": "code",
   "execution_count": 31,
   "metadata": {},
   "outputs": [
    {
     "data": {
      "text/plain": [
       "999"
      ]
     },
     "execution_count": 31,
     "metadata": {},
     "output_type": "execute_result"
    }
   ],
   "source": [
    "len(verbs)"
   ]
  },
  {
   "cell_type": "code",
   "execution_count": 29,
   "metadata": {},
   "outputs": [],
   "source": [
    "pd.DataFrame(parsed).to_csv('top_400_pt.csv', index=False)"
   ]
  },
  {
   "cell_type": "code",
   "execution_count": 18,
   "metadata": {},
   "outputs": [],
   "source": [
    "pd.DataFrame(verbs).rename(columns={0:'verbs'}).to_csv('top_1000_verbs_pt.csv', index=False)"
   ]
  },
  {
   "cell_type": "code",
   "execution_count": null,
   "metadata": {},
   "outputs": [],
   "source": []
  }
 ],
 "metadata": {
  "kernelspec": {
   "display_name": "verbs",
   "language": "python",
   "name": "verbs"
  },
  "language_info": {
   "codemirror_mode": {
    "name": "ipython",
    "version": 3
   },
   "file_extension": ".py",
   "mimetype": "text/x-python",
   "name": "python",
   "nbconvert_exporter": "python",
   "pygments_lexer": "ipython3",
   "version": "3.6.8"
  }
 },
 "nbformat": 4,
 "nbformat_minor": 2
}
