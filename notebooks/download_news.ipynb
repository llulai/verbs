{
 "cells": [
  {
   "cell_type": "code",
   "execution_count": 1,
   "metadata": {},
   "outputs": [],
   "source": [
    "import requests\n",
    "from bs4 import BeautifulSoup"
   ]
  },
  {
   "cell_type": "markdown",
   "metadata": {},
   "source": [
    " ## open main page"
   ]
  },
  {
   "cell_type": "code",
   "execution_count": 2,
   "metadata": {},
   "outputs": [],
   "source": [
    "main_page = requests.get('https://www.bbc.com/portuguese/brasil')\n",
    "soup = BeautifulSoup(main_page.content)"
   ]
  },
  {
   "cell_type": "markdown",
   "metadata": {},
   "source": [
    "## download news in the main page"
   ]
  },
  {
   "cell_type": "code",
   "execution_count": 32,
   "metadata": {
    "scrolled": false
   },
   "outputs": [],
   "source": [
    "news_links = soup.find(class_='column--primary').find(class_='eagle').find_all(class_='faux-block-link__overlay-link')"
   ]
  },
  {
   "cell_type": "code",
   "execution_count": 31,
   "metadata": {},
   "outputs": [],
   "source": [
    "for link in news_links:\n",
    "    url = f\"https://www.bbc.com{link.get('href')}\"\n",
    "    code = link.get('href').split('-')[-1]\n",
    "    news_page = requests.get(url)\n",
    "    with open(f'news/{code}.txt', 'w') as file:\n",
    "        file.write(BeautifulSoup(requests.get(url).content).find(class_='story-body__inner').text)"
   ]
  }
 ],
 "metadata": {
  "kernelspec": {
   "display_name": "Criteo",
   "language": "python",
   "name": "criteo"
  },
  "language_info": {
   "codemirror_mode": {
    "name": "ipython",
    "version": 3
   },
   "file_extension": ".py",
   "mimetype": "text/x-python",
   "name": "python",
   "nbconvert_exporter": "python",
   "pygments_lexer": "ipython3",
   "version": "3.6.4"
  }
 },
 "nbformat": 4,
 "nbformat_minor": 2
}
